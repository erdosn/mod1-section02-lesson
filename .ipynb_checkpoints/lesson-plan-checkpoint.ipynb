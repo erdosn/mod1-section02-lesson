{
 "cells": [
  {
   "cell_type": "markdown",
   "metadata": {},
   "source": [
    "### Objectives\n",
    "YWBAT\n",
    "* write functions for a variety of objects\n",
    "* create defaultdictionaries in functions\n",
    "* calculate central tendancy statistics\n",
    "\n",
    "Bonus\n",
    "* Write lambda functions\n",
    "* Apply functions within list comprehension\n",
    "* use zip to create a dictionary"
   ]
  },
  {
   "cell_type": "code",
   "execution_count": 23,
   "metadata": {},
   "outputs": [],
   "source": [
    "import numpy as np\n",
    "import pandas as pd\n",
    "\n",
    "from collections import defaultdict\n",
    "from random import shuffle\n",
    "\n",
    "import matplotlib.pyplot as plt"
   ]
  },
  {
   "cell_type": "code",
   "execution_count": 38,
   "metadata": {},
   "outputs": [
    {
     "data": {
      "text/plain": [
       "['jonathan', 'nick', 'gina', 'bryan', 'joel', 'alex']"
      ]
     },
     "execution_count": 38,
     "metadata": {},
     "output_type": "execute_result"
    }
   ],
   "source": [
    "present = [\"alex\", \"nick\", \"gina\", \"jonathan\", \"bryan\", \"joel\"]\n",
    "shuffle(present)\n",
    "present"
   ]
  },
  {
   "cell_type": "code",
   "execution_count": 46,
   "metadata": {},
   "outputs": [],
   "source": [
    "lst = [\"this\", \"is\", \"totally\", \"inspiring\", \"and\", \"amazing\"]"
   ]
  },
  {
   "cell_type": "markdown",
   "metadata": {},
   "source": [
    "### Writing Functions"
   ]
  },
  {
   "cell_type": "code",
   "execution_count": 53,
   "metadata": {},
   "outputs": [],
   "source": [
    "def find_word_length_sum(lst):\n",
    "    \"\"\"\n",
    "    write a function that returns the sum of the lengths of all words in a list of strings\n",
    "    \"\"\"\n",
    "    count = 0\n",
    "    for word in lst:\n",
    "        count += len(word)\n",
    "    return count"
   ]
  },
  {
   "cell_type": "code",
   "execution_count": 54,
   "metadata": {},
   "outputs": [
    {
     "data": {
      "text/plain": [
       "20"
      ]
     },
     "execution_count": 54,
     "metadata": {},
     "output_type": "execute_result"
    }
   ],
   "source": [
    "lst = [\"this\", \"is\", \"a\",\"list\", \"of\", \"strings\"]\n",
    "find_word_length_sum(lst) # 20"
   ]
  },
  {
   "cell_type": "code",
   "execution_count": 58,
   "metadata": {},
   "outputs": [],
   "source": [
    "def group_even_odd(lst):\n",
    "    \"\"\"\n",
    "    write a function that takes in a list of numbers\n",
    "    returns a dictionary with the given structure\n",
    "    keys = 'even' and 'odd'\n",
    "    values = list -> list of numbers all being even or odd\n",
    "    \"\"\"\n",
    "    d = {}\n",
    "    d[\"evens\"] = []\n",
    "    d[\"odds\"] = []\n",
    "    for number in lst:\n",
    "        if number % 2 == 0:\n",
    "            d[\"evens\"].append(number)\n",
    "        else:\n",
    "            d[\"odds\"].append(number)\n",
    "    return d"
   ]
  },
  {
   "cell_type": "code",
   "execution_count": 59,
   "metadata": {},
   "outputs": [
    {
     "data": {
      "text/plain": [
       "{'evens': [2, 12, 10, 14], 'odds': [11, 13, 53, 15]}"
      ]
     },
     "execution_count": 59,
     "metadata": {},
     "output_type": "execute_result"
    }
   ],
   "source": [
    "lst = [2, 12, 10, 11, 13, 53, 14, 15]\n",
    "group_even_odd(lst) # {'even': [2, 10, 12, 14], 'odd': [11, 13, 53, 15]}"
   ]
  },
  {
   "cell_type": "code",
   "execution_count": 67,
   "metadata": {},
   "outputs": [],
   "source": [
    "def group_words_by_length(lst):\n",
    "    \"\"\"\n",
    "    def group_even_odd(lst):\n",
    "    write a function that takes in a list of words and\n",
    "    returns a dictionary with the given structure\n",
    "    keys = integers -> length of words\n",
    "    values = list -> list of words with the given length\n",
    "    \n",
    "    hint: use defaultdict\n",
    "    \"\"\"\n",
    "    d = defaultdict(list)\n",
    "    for word in lst:\n",
    "        key = len(word)\n",
    "        d[key].append(word)\n",
    "    return d"
   ]
  },
  {
   "cell_type": "code",
   "execution_count": 68,
   "metadata": {},
   "outputs": [
    {
     "data": {
      "text/plain": [
       "defaultdict(list,\n",
       "            {1: ['a'],\n",
       "             2: ['is', 'of'],\n",
       "             4: ['this', 'list', 'list'],\n",
       "             7: ['strings']})"
      ]
     },
     "execution_count": 68,
     "metadata": {},
     "output_type": "execute_result"
    }
   ],
   "source": [
    "lst = [\"this\", \"is\", \"a\",\"list\", \"of\", \"strings\", \"list\"]\n",
    "group_words_by_length(lst) # {4: [\"this\", \"list\"], 2:[\"is\", \"of\"], 1: [\"a\"], 7:[\"strings\"]}"
   ]
  },
  {
   "cell_type": "code",
   "execution_count": 15,
   "metadata": {},
   "outputs": [],
   "source": [
    "def median_mean_greater(numbers):\n",
    "    \"\"\"\n",
    "    write a function that returns if the median or mean of a list of numbers is greater.\n",
    "    \n",
    "    return \"median\" or \"mean\" depending on which is greater\n",
    "    \"\"\"\n",
    "    pass"
   ]
  },
  {
   "cell_type": "code",
   "execution_count": 16,
   "metadata": {},
   "outputs": [],
   "source": [
    "numbers = np.random.randint(0, 100, 20)\n",
    "median_mean_greater(numbers) # varies based on numbers"
   ]
  },
  {
   "cell_type": "code",
   "execution_count": 19,
   "metadata": {},
   "outputs": [],
   "source": [
    "### Plot the histogram of the numbers from above\n",
    "### make sure to add a vertical line for the mean and a vertical line for the median\n",
    "\n",
    "#code goes here"
   ]
  },
  {
   "cell_type": "code",
   "execution_count": 20,
   "metadata": {},
   "outputs": [],
   "source": [
    "numbers_2 = np.random.randint(0, 100, 20)"
   ]
  },
  {
   "cell_type": "code",
   "execution_count": 24,
   "metadata": {},
   "outputs": [],
   "source": [
    "### Plot both distributions (numbers_1, numbers_2) on the same histogram\n",
    "### Add a legend to the plot and add a vertical line for the each mean\n",
    "\n",
    "### code goes here"
   ]
  },
  {
   "cell_type": "code",
   "execution_count": 28,
   "metadata": {},
   "outputs": [],
   "source": [
    "### create a random list of  50 numbers using np.random.randint\n",
    "### numbers must be between 20 and 100\n",
    "### graph the boxplot of your numbers and analyze your findings\n",
    "\n",
    "### code goes here"
   ]
  },
  {
   "cell_type": "markdown",
   "metadata": {},
   "source": [
    "### Extra Fun Stuff"
   ]
  },
  {
   "cell_type": "code",
   "execution_count": 29,
   "metadata": {},
   "outputs": [],
   "source": [
    "tweet = \"Buying a car in 2019 that can’t upgrade to full self-driving is like buying a horse instead of a car in 1919\""
   ]
  },
  {
   "cell_type": "code",
   "execution_count": 33,
   "metadata": {},
   "outputs": [],
   "source": [
    "tweet_words = tweet.split(\" \")"
   ]
  },
  {
   "cell_type": "code",
   "execution_count": 34,
   "metadata": {},
   "outputs": [],
   "source": [
    "### write a lambda function that takes in a string and returns the length of the string"
   ]
  },
  {
   "cell_type": "code",
   "execution_count": 35,
   "metadata": {},
   "outputs": [],
   "source": [
    "### create a list of the length of each word in tweet\n",
    "### bonus if you use 'def' method, bonus bonus if you use lambda\n"
   ]
  }
 ],
 "metadata": {
  "kernelspec": {
   "display_name": "Python 3",
   "language": "python",
   "name": "python3"
  },
  "language_info": {
   "codemirror_mode": {
    "name": "ipython",
    "version": 3
   },
   "file_extension": ".py",
   "mimetype": "text/x-python",
   "name": "python",
   "nbconvert_exporter": "python",
   "pygments_lexer": "ipython3",
   "version": "3.6.4"
  }
 },
 "nbformat": 4,
 "nbformat_minor": 2
}
