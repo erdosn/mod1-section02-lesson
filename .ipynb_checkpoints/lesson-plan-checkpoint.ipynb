{
 "cells": [
  {
   "cell_type": "markdown",
   "metadata": {},
   "source": [
    "### Objectives\n",
    "YWBAT\n",
    "* write functions for a variety of objects\n",
    "* create defaultdictionaries in functions\n",
    "* calculate central tendancy statistics\n",
    "\n",
    "Bonus\n",
    "* Write lambda functions\n",
    "* Apply functions within list comprehension\n",
    "* use zip to create a dictionary"
   ]
  },
  {
   "cell_type": "code",
   "execution_count": 3,
   "metadata": {},
   "outputs": [],
   "source": [
    "import numpy as np\n",
    "import pandas as pd\n",
    "\n",
    "from collections import defaultdict\n",
    "from random import shuffle\n",
    "\n",
    "import matplotlib.pyplot as plt"
   ]
  },
  {
   "cell_type": "markdown",
   "metadata": {},
   "source": [
    "### Writing Functions"
   ]
  },
  {
   "cell_type": "code",
   "execution_count": 7,
   "metadata": {},
   "outputs": [],
   "source": [
    "def find_word_length_sum(lst):\n",
    "    \"\"\"\n",
    "    write a function that returns the sum of the lengths of all words in a list of strings\n",
    "    \"\"\"\n",
    "    count = 0\n",
    "    for word in lst:\n",
    "        count += len(word)\n",
    "    return count"
   ]
  },
  {
   "cell_type": "code",
   "execution_count": 8,
   "metadata": {},
   "outputs": [
    {
     "data": {
      "text/plain": [
       "20"
      ]
     },
     "execution_count": 8,
     "metadata": {},
     "output_type": "execute_result"
    }
   ],
   "source": [
    "lst = [\"this\", \"is\", \"a\",\"list\", \"of\", \"strings\"]\n",
    "find_word_length_sum(lst) # 20"
   ]
  },
  {
   "cell_type": "code",
   "execution_count": 9,
   "metadata": {},
   "outputs": [],
   "source": [
    "def group_even_odd(lst):\n",
    "    \"\"\"\n",
    "    write a function that takes in a list of numbers\n",
    "    returns a dictionary with the given structure\n",
    "    keys = 'even' and 'odd'\n",
    "    values = list -> list of numbers all being even or odd\n",
    "    \"\"\"\n",
    "    d = {}\n",
    "    d[\"evens\"] = []\n",
    "    d[\"odds\"] = []\n",
    "    for number in lst:\n",
    "        if number % 2 == 0:\n",
    "            d[\"evens\"].append(number)\n",
    "        else:\n",
    "            d[\"odds\"].append(number)\n",
    "    return d"
   ]
  },
  {
   "cell_type": "code",
   "execution_count": 10,
   "metadata": {},
   "outputs": [
    {
     "data": {
      "text/plain": [
       "{'evens': [2, 12, 10, 14], 'odds': [11, 13, 53, 15]}"
      ]
     },
     "execution_count": 10,
     "metadata": {},
     "output_type": "execute_result"
    }
   ],
   "source": [
    "lst = [2, 12, 10, 11, 13, 53, 14, 15]\n",
    "group_even_odd(lst) # {'even': [2, 10, 12, 14], 'odd': [11, 13, 53, 15]}"
   ]
  },
  {
   "cell_type": "code",
   "execution_count": 11,
   "metadata": {},
   "outputs": [],
   "source": [
    "def group_words_by_length(lst):\n",
    "    \"\"\"\n",
    "    def group_even_odd(lst):\n",
    "    write a function that takes in a list of words and\n",
    "    returns a dictionary with the given structure\n",
    "    keys = integers -> length of words\n",
    "    values = list -> list of words with the given length\n",
    "    \n",
    "    hint: use defaultdict\n",
    "    \"\"\"\n",
    "    d = defaultdict(list)\n",
    "    for word in lst:\n",
    "        key = len(word)\n",
    "        d[key].append(word)\n",
    "    return d"
   ]
  },
  {
   "cell_type": "code",
   "execution_count": 12,
   "metadata": {},
   "outputs": [
    {
     "data": {
      "text/plain": [
       "defaultdict(list,\n",
       "            {1: ['a'],\n",
       "             2: ['is', 'of'],\n",
       "             4: ['this', 'list', 'list'],\n",
       "             7: ['strings']})"
      ]
     },
     "execution_count": 12,
     "metadata": {},
     "output_type": "execute_result"
    }
   ],
   "source": [
    "lst = [\"this\", \"is\", \"a\",\"list\", \"of\", \"strings\", \"list\"]\n",
    "group_words_by_length(lst) # {4: [\"this\", \"list\"], 2:[\"is\", \"of\"], 1: [\"a\"], 7:[\"strings\"]}"
   ]
  },
  {
   "cell_type": "code",
   "execution_count": 13,
   "metadata": {},
   "outputs": [],
   "source": [
    "def median_mean_greater(numbers):\n",
    "    \"\"\"\n",
    "    write a function that returns if the median or mean of a list of numbers is greater.\n",
    "    \n",
    "    return \"median\" or \"mean\" depending on which is greater\n",
    "    \"\"\"\n",
    "    median = np.median(numbers)\n",
    "    mean = np.mean(numbers)\n",
    "    if median > mean:\n",
    "        return \"median\"\n",
    "    return \"mean\""
   ]
  },
  {
   "cell_type": "code",
   "execution_count": 14,
   "metadata": {},
   "outputs": [
    {
     "data": {
      "text/plain": [
       "'mean'"
      ]
     },
     "execution_count": 14,
     "metadata": {},
     "output_type": "execute_result"
    }
   ],
   "source": [
    "numbers = np.random.randint(0, 100, 20)\n",
    "median_mean_greater(numbers) # varies based on numbers"
   ]
  },
  {
   "cell_type": "code",
   "execution_count": 38,
   "metadata": {},
   "outputs": [
    {
     "data": {
      "image/png": "[encoded data removed]",
      "text/plain": [
       "<matplotlib.figure.Figure at 0x11f8adac8>"
      ]
     },
     "metadata": {},
     "output_type": "display_data"
    }
   ],
   "source": [
    "### Plot the histogram of the numbers from above\n",
    "### make sure to add a vertical line for the mean and a vertical line for the median\n",
    "\n",
    "#code goes here\n",
    "mean = np.mean(numbers)\n",
    "median = np.median(numbers)\n",
    "\n",
    "plt.figure(figsize=(8, 8))\n",
    "plt.hist(numbers, alpha=0.5) # plot this first to get the ymax value\n",
    "plt.vlines(mean, ymin=0, ymax=4, colors='red', linewidth=5, label='mean')\n",
    "plt.vlines(median, ymin=0, ymax=4, colors='green', linewidth=5, label='median')\n",
    "plt.legend()\n",
    "plt.title(\"Numbers Distribution\")\n",
    "plt.xlabel(\"Numbers\")\n",
    "plt.ylabel(\"Counts\")\n",
    "plt.show()"
   ]
  },
  {
   "cell_type": "code",
   "execution_count": 39,
   "metadata": {},
   "outputs": [],
   "source": [
    "numbers_2 = np.random.randint(0, 100, 20)"
   ]
  },
  {
   "cell_type": "code",
   "execution_count": 42,
   "metadata": {},
   "outputs": [
    {
     "data": {
      "text/plain": [
       "<matplotlib.legend.Legend at 0x11f9e6cf8>"
      ]
     },
     "execution_count": 42,
     "metadata": {},
     "output_type": "execute_result"
    },
    {
     "data": {
      "image/png": "[encoded data removed]",
      "text/plain": [
       "<matplotlib.figure.Figure at 0x11f259908>"
      ]
     },
     "metadata": {},
     "output_type": "display_data"
    }
   ],
   "source": [
    "### Plot both distributions (numbers_1, numbers_2) on the same histogram\n",
    "### Add a legend to the plot and add a vertical line for the each mean\n",
    "\n",
    "### code goes here\n",
    "\n",
    "plt.figure(figsize=(8, 8))\n",
    "plt.hist(numbers, color='red', label='numbers', alpha=0.5)\n",
    "plt.hist(numbers_2, color='green', label='numbers_2', alpha=0.5)\n",
    "plt.vlines(numbers.mean(), ymin=0, ymax=5, color='k', label='numbers mean')\n",
    "plt.vlines(numbers_2.mean(), ymin=0, ymax=5, color='k', linestyle='dashed', label='numbers_2 mean')\n",
    "plt.title(\"Two Distributions\")\n",
    "plt.legend()"
   ]
  },
  {
   "cell_type": "code",
   "execution_count": 47,
   "metadata": {},
   "outputs": [
    {
     "data": {
      "image/png": "[encoded data removed]",
      "text/plain": [
       "<matplotlib.figure.Figure at 0x11f3921d0>"
      ]
     },
     "metadata": {},
     "output_type": "display_data"
    }
   ],
   "source": [
    "### create a random list of  50 numbers using np.random.randint\n",
    "### numbers must be between 20 and 100\n",
    "### graph the boxplot of your numbers and analyze your findings\n",
    "\n",
    "### code goes here\n",
    "numbers_3 = np.random.randint(20, 100, 50)\n",
    "plt.figure(figsize=(6, 6))\n",
    "plt.boxplot(numbers_3, vertical=False)\n",
    "plt.show()"
   ]
  },
  {
   "cell_type": "markdown",
   "metadata": {},
   "source": [
    "### Extra Fun Stuff"
   ]
  },
  {
   "cell_type": "code",
   "execution_count": 48,
   "metadata": {},
   "outputs": [],
   "source": [
    "tweet = \"Buying a car in 2019 that can’t upgrade to full self-driving is like buying a horse instead of a car in 1919\""
   ]
  },
  {
   "cell_type": "code",
   "execution_count": 49,
   "metadata": {},
   "outputs": [],
   "source": [
    "tweet_words = tweet.split(\" \")"
   ]
  },
  {
   "cell_type": "code",
   "execution_count": 50,
   "metadata": {},
   "outputs": [],
   "source": [
    "### write a lambda function that takes in a string and returns the length of the string\n",
    "len_string = lambda s: len(s)"
   ]
  },
  {
   "cell_type": "code",
   "execution_count": 51,
   "metadata": {},
   "outputs": [
    {
     "data": {
      "text/plain": [
       "[6, 1, 3, 2, 4, 4, 5, 7, 2, 4, 12, 2, 4, 6, 1, 5, 7, 2, 1, 3, 2, 4]"
      ]
     },
     "execution_count": 51,
     "metadata": {},
     "output_type": "execute_result"
    }
   ],
   "source": [
    "### create a list of the length of each word in tweet\n",
    "### bonus if you use 'def' method, bonus bonus if you use lambda\n",
    "length_of_words_in_tweet = [len_string(word) for word in tweet_words]\n",
    "length_of_words_in_tweet"
   ]
  }
 ],
 "metadata": {
  "kernelspec": {
   "display_name": "Python 3",
   "language": "python",
   "name": "python3"
  },
  "language_info": {
   "codemirror_mode": {
    "name": "ipython",
    "version": 3
   },
   "file_extension": ".py",
   "mimetype": "text/x-python",
   "name": "python",
   "nbconvert_exporter": "python",
   "pygments_lexer": "ipython3",
   "version": "3.6.4"
  }
 },
 "nbformat": 4,
 "nbformat_minor": 2
}
